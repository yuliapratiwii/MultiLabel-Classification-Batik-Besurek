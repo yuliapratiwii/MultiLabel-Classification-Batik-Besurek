{
  "nbformat": 4,
  "nbformat_minor": 0,
  "metadata": {
    "colab": {
      "provenance": []
    },
    "kernelspec": {
      "name": "python3",
      "display_name": "Python 3"
    },
    "language_info": {
      "name": "python"
    }
  },
  "cells": [
    {
      "cell_type": "code",
      "execution_count": 1,
      "metadata": {
        "colab": {
          "base_uri": "https://localhost:8080/"
        },
        "collapsed": true,
        "id": "tsFzzKiC-Ss2",
        "outputId": "c5324f9a-47e7-4215-d1fc-e74f01d503c3"
      },
      "outputs": [
        {
          "output_type": "stream",
          "name": "stdout",
          "text": [
            "Collecting roboflow\n",
            "  Downloading roboflow-1.1.66-py3-none-any.whl.metadata (9.7 kB)\n",
            "Requirement already satisfied: certifi in /usr/local/lib/python3.11/dist-packages (from roboflow) (2025.4.26)\n",
            "Collecting idna==3.7 (from roboflow)\n",
            "  Downloading idna-3.7-py3-none-any.whl.metadata (9.9 kB)\n",
            "Requirement already satisfied: cycler in /usr/local/lib/python3.11/dist-packages (from roboflow) (0.12.1)\n",
            "Requirement already satisfied: kiwisolver>=1.3.1 in /usr/local/lib/python3.11/dist-packages (from roboflow) (1.4.8)\n",
            "Requirement already satisfied: matplotlib in /usr/local/lib/python3.11/dist-packages (from roboflow) (3.10.0)\n",
            "Requirement already satisfied: numpy>=1.18.5 in /usr/local/lib/python3.11/dist-packages (from roboflow) (2.0.2)\n",
            "Collecting opencv-python-headless==4.10.0.84 (from roboflow)\n",
            "  Downloading opencv_python_headless-4.10.0.84-cp37-abi3-manylinux_2_17_x86_64.manylinux2014_x86_64.whl.metadata (20 kB)\n",
            "Requirement already satisfied: Pillow>=7.1.2 in /usr/local/lib/python3.11/dist-packages (from roboflow) (11.2.1)\n",
            "Collecting pillow-heif>=0.18.0 (from roboflow)\n",
            "  Downloading pillow_heif-0.22.0-cp311-cp311-manylinux_2_17_x86_64.manylinux2014_x86_64.whl.metadata (9.6 kB)\n",
            "Requirement already satisfied: python-dateutil in /usr/local/lib/python3.11/dist-packages (from roboflow) (2.9.0.post0)\n",
            "Collecting python-dotenv (from roboflow)\n",
            "  Downloading python_dotenv-1.1.0-py3-none-any.whl.metadata (24 kB)\n",
            "Requirement already satisfied: requests in /usr/local/lib/python3.11/dist-packages (from roboflow) (2.32.3)\n",
            "Requirement already satisfied: six in /usr/local/lib/python3.11/dist-packages (from roboflow) (1.17.0)\n",
            "Requirement already satisfied: urllib3>=1.26.6 in /usr/local/lib/python3.11/dist-packages (from roboflow) (2.4.0)\n",
            "Requirement already satisfied: tqdm>=4.41.0 in /usr/local/lib/python3.11/dist-packages (from roboflow) (4.67.1)\n",
            "Requirement already satisfied: PyYAML>=5.3.1 in /usr/local/lib/python3.11/dist-packages (from roboflow) (6.0.2)\n",
            "Requirement already satisfied: requests-toolbelt in /usr/local/lib/python3.11/dist-packages (from roboflow) (1.0.0)\n",
            "Collecting filetype (from roboflow)\n",
            "  Downloading filetype-1.2.0-py2.py3-none-any.whl.metadata (6.5 kB)\n",
            "Requirement already satisfied: contourpy>=1.0.1 in /usr/local/lib/python3.11/dist-packages (from matplotlib->roboflow) (1.3.2)\n",
            "Requirement already satisfied: fonttools>=4.22.0 in /usr/local/lib/python3.11/dist-packages (from matplotlib->roboflow) (4.58.1)\n",
            "Requirement already satisfied: packaging>=20.0 in /usr/local/lib/python3.11/dist-packages (from matplotlib->roboflow) (24.2)\n",
            "Requirement already satisfied: pyparsing>=2.3.1 in /usr/local/lib/python3.11/dist-packages (from matplotlib->roboflow) (3.2.3)\n",
            "Requirement already satisfied: charset-normalizer<4,>=2 in /usr/local/lib/python3.11/dist-packages (from requests->roboflow) (3.4.2)\n",
            "Downloading roboflow-1.1.66-py3-none-any.whl (86 kB)\n",
            "\u001b[2K   \u001b[90m━━━━━━━━━━━━━━━━━━━━━━━━━━━━━━━━━━━━━━━━\u001b[0m \u001b[32m86.7/86.7 kB\u001b[0m \u001b[31m3.4 MB/s\u001b[0m eta \u001b[36m0:00:00\u001b[0m\n",
            "\u001b[?25hDownloading idna-3.7-py3-none-any.whl (66 kB)\n",
            "\u001b[2K   \u001b[90m━━━━━━━━━━━━━━━━━━━━━━━━━━━━━━━━━━━━━━━━\u001b[0m \u001b[32m66.8/66.8 kB\u001b[0m \u001b[31m5.1 MB/s\u001b[0m eta \u001b[36m0:00:00\u001b[0m\n",
            "\u001b[?25hDownloading opencv_python_headless-4.10.0.84-cp37-abi3-manylinux_2_17_x86_64.manylinux2014_x86_64.whl (49.9 MB)\n",
            "\u001b[2K   \u001b[90m━━━━━━━━━━━━━━━━━━━━━━━━━━━━━━━━━━━━━━━━\u001b[0m \u001b[32m49.9/49.9 MB\u001b[0m \u001b[31m19.8 MB/s\u001b[0m eta \u001b[36m0:00:00\u001b[0m\n",
            "\u001b[?25hDownloading pillow_heif-0.22.0-cp311-cp311-manylinux_2_17_x86_64.manylinux2014_x86_64.whl (7.8 MB)\n",
            "\u001b[2K   \u001b[90m━━━━━━━━━━━━━━━━━━━━━━━━━━━━━━━━━━━━━━━━\u001b[0m \u001b[32m7.8/7.8 MB\u001b[0m \u001b[31m107.7 MB/s\u001b[0m eta \u001b[36m0:00:00\u001b[0m\n",
            "\u001b[?25hDownloading filetype-1.2.0-py2.py3-none-any.whl (19 kB)\n",
            "Downloading python_dotenv-1.1.0-py3-none-any.whl (20 kB)\n",
            "Installing collected packages: filetype, python-dotenv, pillow-heif, opencv-python-headless, idna, roboflow\n",
            "  Attempting uninstall: opencv-python-headless\n",
            "    Found existing installation: opencv-python-headless 4.11.0.86\n",
            "    Uninstalling opencv-python-headless-4.11.0.86:\n",
            "      Successfully uninstalled opencv-python-headless-4.11.0.86\n",
            "  Attempting uninstall: idna\n",
            "    Found existing installation: idna 3.10\n",
            "    Uninstalling idna-3.10:\n",
            "      Successfully uninstalled idna-3.10\n",
            "Successfully installed filetype-1.2.0 idna-3.7 opencv-python-headless-4.10.0.84 pillow-heif-0.22.0 python-dotenv-1.1.0 roboflow-1.1.66\n"
          ]
        }
      ],
      "source": [
        "# Install roboflow\n",
        "!pip install roboflow\n",
        "\n",
        "# Import library\n",
        "from roboflow import Roboflow\n",
        "import pandas as pd\n",
        "from sklearn.model_selection import train_test_split\n",
        "import os\n",
        "import shutil\n"
      ]
    },
    {
      "cell_type": "code",
      "source": [
        "# Koneksi ke akun Roboflow\n",
        "rf = Roboflow(api_key=\"zFQnSt2437Ig6aCAtSZ4\")\n",
        "project = rf.workspace(\"yulia-pratiwi-45vut\").project(\"batik-multilabel-big\")\n",
        "version = project.version(29)\n",
        "\n",
        "# Download dataset (akan tersimpan lokal otomatis)\n",
        "dataset = version.download(\"multiclass\")  # bisa juga \"yolov8\", \"coco\", dll"
      ],
      "metadata": {
        "colab": {
          "base_uri": "https://localhost:8080/"
        },
        "id": "IQ8phEe__As-",
        "outputId": "c1e76e96-e0b6-4b38-8377-9f43e67393b8"
      },
      "execution_count": 2,
      "outputs": [
        {
          "output_type": "stream",
          "name": "stdout",
          "text": [
            "loading Roboflow workspace...\n",
            "loading Roboflow project...\n"
          ]
        },
        {
          "output_type": "stream",
          "name": "stderr",
          "text": [
            "Downloading Dataset Version Zip in batik-multilabel-big-29 to multiclass:: 100%|██████████| 71981/71981 [00:01<00:00, 55385.81it/s]"
          ]
        },
        {
          "output_type": "stream",
          "name": "stdout",
          "text": [
            "\n"
          ]
        },
        {
          "output_type": "stream",
          "name": "stderr",
          "text": [
            "\n",
            "Extracting Dataset Version Zip to batik-multilabel-big-29 in multiclass:: 100%|██████████| 4118/4118 [00:00<00:00, 4421.92it/s]\n"
          ]
        }
      ]
    },
    {
      "cell_type": "code",
      "source": [
        "# Path folder hasil download\n",
        "DATA_DIR = dataset.location\n",
        "ANNOTATION_PATH = os.path.join(DATA_DIR, \"train\", \"_classes.csv\")\n",
        "\n",
        "# Baca anotasi CSV\n",
        "df = pd.read_csv(ANNOTATION_PATH)\n",
        "\n",
        "# Deteksi kolom label\n",
        "label_columns = df.columns[1:]  # semua kolom kecuali 'filename'\n",
        "\n",
        "# Buat kolom list label untuk setiap gambar\n",
        "df['labels'] = df[label_columns].apply(lambda row: [label for label, val in row.items() if val == 1], axis=1)\n",
        "df['file_path'] = df['filename'].apply(lambda x: os.path.join(DATA_DIR, 'train', x))\n",
        "\n",
        "# Ambil hanya kolom yang dibutuhkan\n",
        "df_grouped = df[['filename', 'file_path', 'labels']]\n",
        "\n",
        "# Cek hasil\n",
        "df_grouped.head()\n"
      ],
      "metadata": {
        "colab": {
          "base_uri": "https://localhost:8080/",
          "height": 206
        },
        "id": "csxYY18z_Mf3",
        "outputId": "b1febd29-879a-4008-e5f0-770c40b62b21"
      },
      "execution_count": 6,
      "outputs": [
        {
          "output_type": "execute_result",
          "data": {
            "text/plain": [
              "                                            filename  \\\n",
              "0  IMG_6937_jpeg_jpg.rf.75ac2df3da00a90f9cc629dd6...   \n",
              "1  IMG_20250107_143736_jpg.rf.ee0ce424759b275386c...   \n",
              "2  IMG_6748_jpeg_jpg.rf.de33c5cf8fa8bc3337ee4c241...   \n",
              "3  20241030_153450_jpg.rf.52570b3ada61fcb1e6dc535...   \n",
              "4  20241030_153454_jpg.rf.15a0b42af4c69ca32535688...   \n",
              "\n",
              "                                           file_path  \\\n",
              "0  /content/batik-multilabel-big-29/train/IMG_693...   \n",
              "1  /content/batik-multilabel-big-29/train/IMG_202...   \n",
              "2  /content/batik-multilabel-big-29/train/IMG_674...   \n",
              "3  /content/batik-multilabel-big-29/train/2024103...   \n",
              "4  /content/batik-multilabel-big-29/train/2024103...   \n",
              "\n",
              "                                          labels  \n",
              "0                          [Kaligrafi, Rembulan]  \n",
              "1                          [Kaligrafi, Rembulan]  \n",
              "2  [Kaligrafi, Kembang Cempaka, Kembang Cengkeh]  \n",
              "3                                    [Rafflesia]  \n",
              "4                                    [Rafflesia]  "
            ],
            "text/html": [
              "\n",
              "  <div id=\"df-8391f442-c4d5-4901-a860-c164f3ae79b2\" class=\"colab-df-container\">\n",
              "    <div>\n",
              "<style scoped>\n",
              "    .dataframe tbody tr th:only-of-type {\n",
              "        vertical-align: middle;\n",
              "    }\n",
              "\n",
              "    .dataframe tbody tr th {\n",
              "        vertical-align: top;\n",
              "    }\n",
              "\n",
              "    .dataframe thead th {\n",
              "        text-align: right;\n",
              "    }\n",
              "</style>\n",
              "<table border=\"1\" class=\"dataframe\">\n",
              "  <thead>\n",
              "    <tr style=\"text-align: right;\">\n",
              "      <th></th>\n",
              "      <th>filename</th>\n",
              "      <th>file_path</th>\n",
              "      <th>labels</th>\n",
              "    </tr>\n",
              "  </thead>\n",
              "  <tbody>\n",
              "    <tr>\n",
              "      <th>0</th>\n",
              "      <td>IMG_6937_jpeg_jpg.rf.75ac2df3da00a90f9cc629dd6...</td>\n",
              "      <td>/content/batik-multilabel-big-29/train/IMG_693...</td>\n",
              "      <td>[Kaligrafi, Rembulan]</td>\n",
              "    </tr>\n",
              "    <tr>\n",
              "      <th>1</th>\n",
              "      <td>IMG_20250107_143736_jpg.rf.ee0ce424759b275386c...</td>\n",
              "      <td>/content/batik-multilabel-big-29/train/IMG_202...</td>\n",
              "      <td>[Kaligrafi, Rembulan]</td>\n",
              "    </tr>\n",
              "    <tr>\n",
              "      <th>2</th>\n",
              "      <td>IMG_6748_jpeg_jpg.rf.de33c5cf8fa8bc3337ee4c241...</td>\n",
              "      <td>/content/batik-multilabel-big-29/train/IMG_674...</td>\n",
              "      <td>[Kaligrafi, Kembang Cempaka, Kembang Cengkeh]</td>\n",
              "    </tr>\n",
              "    <tr>\n",
              "      <th>3</th>\n",
              "      <td>20241030_153450_jpg.rf.52570b3ada61fcb1e6dc535...</td>\n",
              "      <td>/content/batik-multilabel-big-29/train/2024103...</td>\n",
              "      <td>[Rafflesia]</td>\n",
              "    </tr>\n",
              "    <tr>\n",
              "      <th>4</th>\n",
              "      <td>20241030_153454_jpg.rf.15a0b42af4c69ca32535688...</td>\n",
              "      <td>/content/batik-multilabel-big-29/train/2024103...</td>\n",
              "      <td>[Rafflesia]</td>\n",
              "    </tr>\n",
              "  </tbody>\n",
              "</table>\n",
              "</div>\n",
              "    <div class=\"colab-df-buttons\">\n",
              "\n",
              "  <div class=\"colab-df-container\">\n",
              "    <button class=\"colab-df-convert\" onclick=\"convertToInteractive('df-8391f442-c4d5-4901-a860-c164f3ae79b2')\"\n",
              "            title=\"Convert this dataframe to an interactive table.\"\n",
              "            style=\"display:none;\">\n",
              "\n",
              "  <svg xmlns=\"http://www.w3.org/2000/svg\" height=\"24px\" viewBox=\"0 -960 960 960\">\n",
              "    <path d=\"M120-120v-720h720v720H120Zm60-500h600v-160H180v160Zm220 220h160v-160H400v160Zm0 220h160v-160H400v160ZM180-400h160v-160H180v160Zm440 0h160v-160H620v160ZM180-180h160v-160H180v160Zm440 0h160v-160H620v160Z\"/>\n",
              "  </svg>\n",
              "    </button>\n",
              "\n",
              "  <style>\n",
              "    .colab-df-container {\n",
              "      display:flex;\n",
              "      gap: 12px;\n",
              "    }\n",
              "\n",
              "    .colab-df-convert {\n",
              "      background-color: #E8F0FE;\n",
              "      border: none;\n",
              "      border-radius: 50%;\n",
              "      cursor: pointer;\n",
              "      display: none;\n",
              "      fill: #1967D2;\n",
              "      height: 32px;\n",
              "      padding: 0 0 0 0;\n",
              "      width: 32px;\n",
              "    }\n",
              "\n",
              "    .colab-df-convert:hover {\n",
              "      background-color: #E2EBFA;\n",
              "      box-shadow: 0px 1px 2px rgba(60, 64, 67, 0.3), 0px 1px 3px 1px rgba(60, 64, 67, 0.15);\n",
              "      fill: #174EA6;\n",
              "    }\n",
              "\n",
              "    .colab-df-buttons div {\n",
              "      margin-bottom: 4px;\n",
              "    }\n",
              "\n",
              "    [theme=dark] .colab-df-convert {\n",
              "      background-color: #3B4455;\n",
              "      fill: #D2E3FC;\n",
              "    }\n",
              "\n",
              "    [theme=dark] .colab-df-convert:hover {\n",
              "      background-color: #434B5C;\n",
              "      box-shadow: 0px 1px 3px 1px rgba(0, 0, 0, 0.15);\n",
              "      filter: drop-shadow(0px 1px 2px rgba(0, 0, 0, 0.3));\n",
              "      fill: #FFFFFF;\n",
              "    }\n",
              "  </style>\n",
              "\n",
              "    <script>\n",
              "      const buttonEl =\n",
              "        document.querySelector('#df-8391f442-c4d5-4901-a860-c164f3ae79b2 button.colab-df-convert');\n",
              "      buttonEl.style.display =\n",
              "        google.colab.kernel.accessAllowed ? 'block' : 'none';\n",
              "\n",
              "      async function convertToInteractive(key) {\n",
              "        const element = document.querySelector('#df-8391f442-c4d5-4901-a860-c164f3ae79b2');\n",
              "        const dataTable =\n",
              "          await google.colab.kernel.invokeFunction('convertToInteractive',\n",
              "                                                    [key], {});\n",
              "        if (!dataTable) return;\n",
              "\n",
              "        const docLinkHtml = 'Like what you see? Visit the ' +\n",
              "          '<a target=\"_blank\" href=https://colab.research.google.com/notebooks/data_table.ipynb>data table notebook</a>'\n",
              "          + ' to learn more about interactive tables.';\n",
              "        element.innerHTML = '';\n",
              "        dataTable['output_type'] = 'display_data';\n",
              "        await google.colab.output.renderOutput(dataTable, element);\n",
              "        const docLink = document.createElement('div');\n",
              "        docLink.innerHTML = docLinkHtml;\n",
              "        element.appendChild(docLink);\n",
              "      }\n",
              "    </script>\n",
              "  </div>\n",
              "\n",
              "\n",
              "    <div id=\"df-e03675cb-d51e-4d39-ae63-5d5dfc699c06\">\n",
              "      <button class=\"colab-df-quickchart\" onclick=\"quickchart('df-e03675cb-d51e-4d39-ae63-5d5dfc699c06')\"\n",
              "                title=\"Suggest charts\"\n",
              "                style=\"display:none;\">\n",
              "\n",
              "<svg xmlns=\"http://www.w3.org/2000/svg\" height=\"24px\"viewBox=\"0 0 24 24\"\n",
              "     width=\"24px\">\n",
              "    <g>\n",
              "        <path d=\"M19 3H5c-1.1 0-2 .9-2 2v14c0 1.1.9 2 2 2h14c1.1 0 2-.9 2-2V5c0-1.1-.9-2-2-2zM9 17H7v-7h2v7zm4 0h-2V7h2v10zm4 0h-2v-4h2v4z\"/>\n",
              "    </g>\n",
              "</svg>\n",
              "      </button>\n",
              "\n",
              "<style>\n",
              "  .colab-df-quickchart {\n",
              "      --bg-color: #E8F0FE;\n",
              "      --fill-color: #1967D2;\n",
              "      --hover-bg-color: #E2EBFA;\n",
              "      --hover-fill-color: #174EA6;\n",
              "      --disabled-fill-color: #AAA;\n",
              "      --disabled-bg-color: #DDD;\n",
              "  }\n",
              "\n",
              "  [theme=dark] .colab-df-quickchart {\n",
              "      --bg-color: #3B4455;\n",
              "      --fill-color: #D2E3FC;\n",
              "      --hover-bg-color: #434B5C;\n",
              "      --hover-fill-color: #FFFFFF;\n",
              "      --disabled-bg-color: #3B4455;\n",
              "      --disabled-fill-color: #666;\n",
              "  }\n",
              "\n",
              "  .colab-df-quickchart {\n",
              "    background-color: var(--bg-color);\n",
              "    border: none;\n",
              "    border-radius: 50%;\n",
              "    cursor: pointer;\n",
              "    display: none;\n",
              "    fill: var(--fill-color);\n",
              "    height: 32px;\n",
              "    padding: 0;\n",
              "    width: 32px;\n",
              "  }\n",
              "\n",
              "  .colab-df-quickchart:hover {\n",
              "    background-color: var(--hover-bg-color);\n",
              "    box-shadow: 0 1px 2px rgba(60, 64, 67, 0.3), 0 1px 3px 1px rgba(60, 64, 67, 0.15);\n",
              "    fill: var(--button-hover-fill-color);\n",
              "  }\n",
              "\n",
              "  .colab-df-quickchart-complete:disabled,\n",
              "  .colab-df-quickchart-complete:disabled:hover {\n",
              "    background-color: var(--disabled-bg-color);\n",
              "    fill: var(--disabled-fill-color);\n",
              "    box-shadow: none;\n",
              "  }\n",
              "\n",
              "  .colab-df-spinner {\n",
              "    border: 2px solid var(--fill-color);\n",
              "    border-color: transparent;\n",
              "    border-bottom-color: var(--fill-color);\n",
              "    animation:\n",
              "      spin 1s steps(1) infinite;\n",
              "  }\n",
              "\n",
              "  @keyframes spin {\n",
              "    0% {\n",
              "      border-color: transparent;\n",
              "      border-bottom-color: var(--fill-color);\n",
              "      border-left-color: var(--fill-color);\n",
              "    }\n",
              "    20% {\n",
              "      border-color: transparent;\n",
              "      border-left-color: var(--fill-color);\n",
              "      border-top-color: var(--fill-color);\n",
              "    }\n",
              "    30% {\n",
              "      border-color: transparent;\n",
              "      border-left-color: var(--fill-color);\n",
              "      border-top-color: var(--fill-color);\n",
              "      border-right-color: var(--fill-color);\n",
              "    }\n",
              "    40% {\n",
              "      border-color: transparent;\n",
              "      border-right-color: var(--fill-color);\n",
              "      border-top-color: var(--fill-color);\n",
              "    }\n",
              "    60% {\n",
              "      border-color: transparent;\n",
              "      border-right-color: var(--fill-color);\n",
              "    }\n",
              "    80% {\n",
              "      border-color: transparent;\n",
              "      border-right-color: var(--fill-color);\n",
              "      border-bottom-color: var(--fill-color);\n",
              "    }\n",
              "    90% {\n",
              "      border-color: transparent;\n",
              "      border-bottom-color: var(--fill-color);\n",
              "    }\n",
              "  }\n",
              "</style>\n",
              "\n",
              "      <script>\n",
              "        async function quickchart(key) {\n",
              "          const quickchartButtonEl =\n",
              "            document.querySelector('#' + key + ' button');\n",
              "          quickchartButtonEl.disabled = true;  // To prevent multiple clicks.\n",
              "          quickchartButtonEl.classList.add('colab-df-spinner');\n",
              "          try {\n",
              "            const charts = await google.colab.kernel.invokeFunction(\n",
              "                'suggestCharts', [key], {});\n",
              "          } catch (error) {\n",
              "            console.error('Error during call to suggestCharts:', error);\n",
              "          }\n",
              "          quickchartButtonEl.classList.remove('colab-df-spinner');\n",
              "          quickchartButtonEl.classList.add('colab-df-quickchart-complete');\n",
              "        }\n",
              "        (() => {\n",
              "          let quickchartButtonEl =\n",
              "            document.querySelector('#df-e03675cb-d51e-4d39-ae63-5d5dfc699c06 button');\n",
              "          quickchartButtonEl.style.display =\n",
              "            google.colab.kernel.accessAllowed ? 'block' : 'none';\n",
              "        })();\n",
              "      </script>\n",
              "    </div>\n",
              "\n",
              "    </div>\n",
              "  </div>\n"
            ],
            "application/vnd.google.colaboratory.intrinsic+json": {
              "type": "dataframe",
              "variable_name": "df_grouped",
              "summary": "{\n  \"name\": \"df_grouped\",\n  \"rows\": 4114,\n  \"fields\": [\n    {\n      \"column\": \"filename\",\n      \"properties\": {\n        \"dtype\": \"string\",\n        \"num_unique_values\": 4114,\n        \"samples\": [\n          \"IMG_20250107_144108_jpg.rf.1a3469695001706e3e27f4b9ae89d0f3.jpg\",\n          \"IMG_20250107_155714_jpg.rf.86fc5413c9d58e5ccffae9e779adb6b9.jpg\",\n          \"20241030_151522_jpg.rf.5034d363b69c4958dc2aa12064a9c827.jpg\"\n        ],\n        \"semantic_type\": \"\",\n        \"description\": \"\"\n      }\n    },\n    {\n      \"column\": \"file_path\",\n      \"properties\": {\n        \"dtype\": \"string\",\n        \"num_unique_values\": 4114,\n        \"samples\": [\n          \"/content/batik-multilabel-big-29/train/IMG_20250107_144108_jpg.rf.1a3469695001706e3e27f4b9ae89d0f3.jpg\",\n          \"/content/batik-multilabel-big-29/train/IMG_20250107_155714_jpg.rf.86fc5413c9d58e5ccffae9e779adb6b9.jpg\",\n          \"/content/batik-multilabel-big-29/train/20241030_151522_jpg.rf.5034d363b69c4958dc2aa12064a9c827.jpg\"\n        ],\n        \"semantic_type\": \"\",\n        \"description\": \"\"\n      }\n    },\n    {\n      \"column\": \"labels\",\n      \"properties\": {\n        \"dtype\": \"object\",\n        \"semantic_type\": \"\",\n        \"description\": \"\"\n      }\n    }\n  ]\n}"
            }
          },
          "metadata": {},
          "execution_count": 6
        }
      ]
    },
    {
      "cell_type": "code",
      "source": [
        "# Split data 70:20:10\n",
        "train_val, test = train_test_split(df_grouped, test_size=0.10, random_state=42)\n",
        "train, val = train_test_split(train_val, test_size=2/9, random_state=42)\n",
        "\n",
        "print(f\"Train: {len(train)} | Val: {len(val)} | Test: {len(test)}\")\n"
      ],
      "metadata": {
        "colab": {
          "base_uri": "https://localhost:8080/"
        },
        "id": "NqmqCF32_qOA",
        "outputId": "7a1cf6dc-25d1-401e-c00c-bd9a2cc51718"
      },
      "execution_count": 7,
      "outputs": [
        {
          "output_type": "stream",
          "name": "stdout",
          "text": [
            "Train: 2879 | Val: 823 | Test: 412\n"
          ]
        }
      ]
    },
    {
      "cell_type": "code",
      "source": [
        "# Baca CSV\n",
        "df = pd.read_csv(ANNOTATION_PATH)\n",
        "\n",
        "# Deteksi label kolom (kecuali filename)\n",
        "label_columns = df.columns[1:]\n",
        "df['labels'] = df[label_columns].apply(lambda row: [label for label, val in row.items() if val == 1], axis=1)\n",
        "df['file_path'] = df['filename'].apply(lambda x: os.path.join(DATA_DIR, 'train', x))\n",
        "\n",
        "# Kolom akhir yang digunakan\n",
        "df_grouped = df[['filename', 'file_path', 'labels']]\n"
      ],
      "metadata": {
        "id": "E8L2Ea3pDIaq"
      },
      "execution_count": 16,
      "outputs": []
    },
    {
      "cell_type": "code",
      "source": [
        "# Split data\n",
        "train_val, test = train_test_split(df_grouped, test_size=0.10, random_state=42)\n",
        "train, val = train_test_split(train_val, test_size=2/9, random_state=42)\n",
        "\n",
        "print(f\"Train: {len(train)}, Val: {len(val)}, Test: {len(test)}\")\n"
      ],
      "metadata": {
        "colab": {
          "base_uri": "https://localhost:8080/"
        },
        "id": "sFjvCXl0DJcH",
        "outputId": "4802e008-8cb0-4032-febe-9c001cdfdfd4"
      },
      "execution_count": 17,
      "outputs": [
        {
          "output_type": "stream",
          "name": "stdout",
          "text": [
            "Train: 2879, Val: 823, Test: 412\n"
          ]
        }
      ]
    },
    {
      "cell_type": "code",
      "source": [
        "def label_distribution(df_split, name):\n",
        "    counts = {label: 0 for label in label_columns}\n",
        "    for labels in df_split['labels']:\n",
        "        for l in labels:\n",
        "            counts[l] += 1\n",
        "    print(f\"\\n📊 Distribusi label di {name} set:\")\n",
        "    for label, count in counts.items():\n",
        "        print(f\"  {label:<20}: {count}\")\n",
        "\n",
        "label_distribution(train, \"Train\")\n",
        "label_distribution(val, \"Validation\")\n",
        "label_distribution(test, \"Test\")\n"
      ],
      "metadata": {
        "colab": {
          "base_uri": "https://localhost:8080/"
        },
        "id": "ZCmFponfDLiV",
        "outputId": "dbf5c4d4-ad88-481c-8614-a994ce6270df"
      },
      "execution_count": 18,
      "outputs": [
        {
          "output_type": "stream",
          "name": "stdout",
          "text": [
            "\n",
            "📊 Distribusi label di Train set:\n",
            "  Burung Kuau         : 690\n",
            "  Burung Punai        : 335\n",
            "  Kaligrafi           : 2124\n",
            "  Kaligrafi Lawas     : 382\n",
            "  Kembang Cempaka     : 365\n",
            "  Kembang Cengkeh     : 365\n",
            "  Kembang Melati      : 371\n",
            "  Pohon Hayat         : 348\n",
            "  Rafflesia           : 373\n",
            "  Relung Paku         : 335\n",
            "  Rembulan            : 363\n",
            "\n",
            "📊 Distribusi label di Validation set:\n",
            "  Burung Kuau         : 204\n",
            "  Burung Punai        : 123\n",
            "  Kaligrafi           : 627\n",
            "  Kaligrafi Lawas     : 90\n",
            "  Kembang Cempaka     : 98\n",
            "  Kembang Cengkeh     : 98\n",
            "  Kembang Melati      : 96\n",
            "  Pohon Hayat         : 97\n",
            "  Rafflesia           : 106\n",
            "  Relung Paku         : 123\n",
            "  Rembulan            : 106\n",
            "\n",
            "📊 Distribusi label di Test set:\n",
            "  Burung Kuau         : 107\n",
            "  Burung Punai        : 43\n",
            "  Kaligrafi           : 313\n",
            "  Kaligrafi Lawas     : 52\n",
            "  Kembang Cempaka     : 57\n",
            "  Kembang Cengkeh     : 57\n",
            "  Kembang Melati      : 54\n",
            "  Pohon Hayat         : 55\n",
            "  Rafflesia           : 47\n",
            "  Relung Paku         : 43\n",
            "  Rembulan            : 52\n"
          ]
        }
      ]
    },
    {
      "cell_type": "code",
      "source": [
        "# Buat folder baru\n",
        "BASE_DIR = \"batik_multilabel_split2\"\n",
        "for split in ['train', 'val', 'test']:\n",
        "    os.makedirs(os.path.join(BASE_DIR, split, \"images\"), exist_ok=True)\n",
        "\n",
        "def save_split_data_multihot(df_split, split_name):\n",
        "    image_dir = os.path.join(BASE_DIR, split_name, \"images\")\n",
        "    csv_path = os.path.join(BASE_DIR, split_name, f\"{split_name}_labels.csv\")\n",
        "\n",
        "    # Salin gambar\n",
        "    for _, row in df_split.iterrows():\n",
        "        src = row['file_path']\n",
        "        dst = os.path.join(image_dir, os.path.basename(row['file_path']))\n",
        "        shutil.copy(src, dst)\n",
        "\n",
        "    # Buat multi-hot DataFrame\n",
        "    multi_hot_df = pd.DataFrame(0, index=df_split.index, columns=label_columns)\n",
        "    for idx, labels in enumerate(df_split['labels']):\n",
        "        for label in labels:\n",
        "            multi_hot_df.loc[df_split.index[idx], label] = 1\n",
        "    multi_hot_df.insert(0, 'filename', df_split['filename'].values)\n",
        "\n",
        "    # Simpan CSV\n",
        "    multi_hot_df.to_csv(csv_path, index=False)\n",
        "\n",
        "save_split_data_multihot(train, 'train')\n",
        "save_split_data_multihot(val, 'val')\n",
        "save_split_data_multihot(test, 'test')\n"
      ],
      "metadata": {
        "id": "6ThdvCUODOSr"
      },
      "execution_count": 21,
      "outputs": []
    },
    {
      "cell_type": "code",
      "source": [
        "# Buat file zip\n",
        "zip_output = f\"{BASE_DIR}.zip\"\n",
        "with zipfile.ZipFile(zip_output, 'w') as zipf:\n",
        "    for root, _, files in os.walk(BASE_DIR):\n",
        "        for file in files:\n",
        "            file_path = os.path.join(root, file)\n",
        "            arcname = os.path.relpath(file_path, BASE_DIR)\n",
        "            zipf.write(file_path, arcname)\n",
        "\n",
        "print(f\"✅ ZIP berhasil dibuat: {zip_output}\")\n"
      ],
      "metadata": {
        "colab": {
          "base_uri": "https://localhost:8080/"
        },
        "id": "yZ0_3D_EDRQH",
        "outputId": "1a6e0923-8715-4968-fbd5-ba578ca0a3c7"
      },
      "execution_count": 22,
      "outputs": [
        {
          "output_type": "stream",
          "name": "stdout",
          "text": [
            "✅ ZIP berhasil dibuat: batik_multilabel_split2.zip\n"
          ]
        }
      ]
    },
    {
      "cell_type": "code",
      "source": [
        "print(\"Jumlah gambar:\")\n",
        "print(f\"Train      : {len(train)}\")\n",
        "print(f\"Validation : {len(val)}\")\n",
        "print(f\"Test       : {len(test)}\")\n",
        "\n",
        "total = len(train) + len(val) + len(test)\n",
        "print(f\"\\nTotal      : {total}\")\n",
        "\n",
        "print(\"\\nPersentase:\")\n",
        "print(f\"Train      : {len(train)/total*100:.2f}%\")\n",
        "print(f\"Validation : {len(val)/total*100:.2f}%\")\n",
        "print(f\"Test       : {len(test)/total*100:.2f}%\")\n"
      ],
      "metadata": {
        "colab": {
          "base_uri": "https://localhost:8080/"
        },
        "id": "QgmU_H_mDosb",
        "outputId": "3bea4f96-a54f-4fe4-aacf-a07488f4fb3e"
      },
      "execution_count": 23,
      "outputs": [
        {
          "output_type": "stream",
          "name": "stdout",
          "text": [
            "Jumlah gambar:\n",
            "Train      : 2879\n",
            "Validation : 823\n",
            "Test       : 412\n",
            "\n",
            "Total      : 4114\n",
            "\n",
            "Persentase:\n",
            "Train      : 69.98%\n",
            "Validation : 20.00%\n",
            "Test       : 10.01%\n"
          ]
        }
      ]
    }
  ]
}